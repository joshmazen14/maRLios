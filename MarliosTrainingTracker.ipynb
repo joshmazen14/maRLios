{
 "cells": [
  {
   "cell_type": "code",
   "execution_count": 2,
   "metadata": {},
   "outputs": [],
   "source": [
    "import torch\n",
    "import torch.nn as nn\n",
    "import random\n",
    "import gym\n",
    "import gym_super_mario_bros\n",
    "from nes_py.wrappers import JoypadSpace\n",
    "from gym_super_mario_bros import SuperMarioBrosEnv\n",
    "from tqdm import tqdm\n",
    "import pickle \n",
    "import gym\n",
    "import numpy as np\n",
    "import collections \n",
    "import cv2\n",
    "import matplotlib.pyplot as plt\n",
    "import time\n",
    "import datetime\n",
    "import json\n",
    "from toolkit.gym_env import *\n",
    "from toolkit.action_utils import *\n",
    "from toolkit.marlios_model import *\n",
    "from toolkit.train_marlios import *\n",
    "from toolkit.constants import *\n",
    "from toolkit.train_test_samples import *\n",
    "import warnings\n",
    "\n",
    "warnings.filterwarnings('ignore')\n",
    "\n",
    "%load_ext autoreload\n",
    "%autoreload 2"
   ]
  },
  {
   "cell_type": "code",
   "execution_count": 8,
   "metadata": {},
   "outputs": [
    {
     "data": {
      "text/html": [
       "Finishing last run (ID:7hlsh5ae) before initializing another..."
      ],
      "text/plain": [
       "<IPython.core.display.HTML object>"
      ]
     },
     "metadata": {},
     "output_type": "display_data"
    },
    {
     "data": {
      "text/html": [
       "Waiting for W&B process to finish... <strong style=\"color:green\">(success).</strong>"
      ],
      "text/plain": [
       "<IPython.core.display.HTML object>"
      ]
     },
     "metadata": {},
     "output_type": "display_data"
    },
    {
     "data": {
      "application/vnd.jupyter.widget-view+json": {
       "model_id": "dea1b6f109c14bbcbbbafe2d742eda4b",
       "version_major": 2,
       "version_minor": 0
      },
      "text/plain": [
       "VBox(children=(Label(value='0.001 MB of 0.013 MB uploaded (0.000 MB deduped)\\r'), FloatProgress(value=0.071891…"
      ]
     },
     "metadata": {},
     "output_type": "display_data"
    },
    {
     "data": {
      "text/html": [
       "<style>\n",
       "    table.wandb td:nth-child(1) { padding: 0 10px; text-align: left ; width: auto;} td:nth-child(2) {text-align: left ; width: 100%}\n",
       "    .wandb-row { display: flex; flex-direction: row; flex-wrap: wrap; justify-content: flex-start; width: 100% }\n",
       "    .wandb-col { display: flex; flex-direction: column; flex-basis: 100%; flex: 1; padding: 10px; }\n",
       "    </style>\n",
       "<div class=\"wandb-row\"><div class=\"wandb-col\"><h3>Run history:</h3><br/><table class=\"wandb\"><tr><td>avg_loss</td><td>▄▄▆▆▄▄▄▃▁▂▂▄▃▁▂▃▄▇▇███▇▇▆▇██▇▇▇▇▇█▇▇▇▇██</td></tr><tr><td>avg_std_dev</td><td>▇▆▆▆▅▃▂▂▁▁▂▃▅▄▁▁▃▇▇██▇▆▅▅▆▇▆▅▆▆▆▆▆▇▆▆▆▇█</td></tr><tr><td>avg_total_rewards</td><td>▇▇▇▆▄▃▂▂▂▂▂▃▃▂▁▁▂▄▆▇▆▇▇▆▅▄▆▆▆▆▆▆▇▇▇▆▅▆▇█</td></tr><tr><td>current exploration</td><td>█▇▅▄▃▂▁▁▁▁▁▁▁▁▁▁▁▁▁▁▁▁▁▁▁▁▁▁▁▁▁▁▁▁▁▁▁▁▁▁</td></tr><tr><td>current lr</td><td>██▇▇▇▆▆▆▅▅▅▅▄▄▄▄▄▃▃▃▃▃▃▃▂▂▂▂▂▂▂▂▂▁▁▁▁▁▁▁</td></tr><tr><td>flag acquired</td><td>▁▁▁▁▁▁▁▁▁▁▁▁▁▁▁▁▁▁▁▁▁▁▁▁▁▁▁▁▁▁▁▁▁▁▁▁▁▁▁▁</td></tr><tr><td>max_time_per_ep</td><td>▁▁▁▁▁▁▁▁▁▁▁▁▁▁▁▁▁▁▁▁▁▁▁▁▁▁▁▁▁▁▁▁▁▁▁▁▁▁▁▁</td></tr><tr><td>time</td><td>▅▅▅▅▅▅▅▅▅▅▅▆▆▆▆▆▃▆▁▆▆▂▇▂▇▇▇▇▁▇▇▇▂█▂██▂█▃</td></tr><tr><td>total reward</td><td>▄▆▃▁▁▂▂▁▁▂▁▆▃▂▁▁▃▇▄▄▄▅▃▄▂▄▆▃▇▃▅▃▆█▅▆▅▆▆▄</td></tr><tr><td>x_position</td><td>▃▅▃▁▁▂▁▁▁▁▁▅▃▂▁▂▂▆▂▄▄▂▃▂▃▄▆▃▄▄▅▄▃█▃▆▅▃▆▃</td></tr></table><br/></div><div class=\"wandb-col\"><h3>Run summary:</h3><br/><table class=\"wandb\"><tr><td>avg_loss</td><td>3.74303</td></tr><tr><td>avg_std_dev</td><td>192.17576</td></tr><tr><td>avg_total_rewards</td><td>165.34</td></tr><tr><td>current exploration</td><td>0.2</td></tr><tr><td>current lr</td><td>0.0</td></tr><tr><td>flag acquired</td><td>False</td></tr><tr><td>max_time_per_ep</td><td>200</td></tr><tr><td>time</td><td>350</td></tr><tr><td>total reward</td><td>150.0</td></tr><tr><td>x_position</td><td>540</td></tr></table><br/></div></div>"
      ],
      "text/plain": [
       "<IPython.core.display.HTML object>"
      ]
     },
     "metadata": {},
     "output_type": "display_data"
    },
    {
     "data": {
      "text/html": [
       " View run <strong style=\"color:#cdcd00\">bumbling-donkey-115</strong> at: <a href='https://wandb.ai/marlios/my-awesome-project/runs/7hlsh5ae' target=\"_blank\">https://wandb.ai/marlios/my-awesome-project/runs/7hlsh5ae</a><br/>Synced 6 W&B file(s), 0 media file(s), 0 artifact file(s) and 0 other file(s)"
      ],
      "text/plain": [
       "<IPython.core.display.HTML object>"
      ]
     },
     "metadata": {},
     "output_type": "display_data"
    },
    {
     "data": {
      "text/html": [
       "Find logs at: <code>./wandb/run-20230501_001742-7hlsh5ae/logs</code>"
      ],
      "text/plain": [
       "<IPython.core.display.HTML object>"
      ]
     },
     "metadata": {},
     "output_type": "display_data"
    },
    {
     "data": {
      "text/html": [
       "Successfully finished last run (ID:7hlsh5ae). Initializing new run:<br/>"
      ],
      "text/plain": [
       "<IPython.core.display.HTML object>"
      ]
     },
     "metadata": {},
     "output_type": "display_data"
    },
    {
     "data": {
      "text/html": [
       "Tracking run with wandb version 0.15.0"
      ],
      "text/plain": [
       "<IPython.core.display.HTML object>"
      ]
     },
     "metadata": {},
     "output_type": "display_data"
    },
    {
     "data": {
      "text/html": [
       "Run data is saved locally in <code>/Users/bozhiepokorny/Documents/CSCI566/marlios/maRLios/wandb/run-20230501_112501-yj2gmdi5</code>"
      ],
      "text/plain": [
       "<IPython.core.display.HTML object>"
      ]
     },
     "metadata": {},
     "output_type": "display_data"
    },
    {
     "data": {
      "text/html": [
       "Syncing run <strong><a href='https://wandb.ai/marlios/my-awesome-project/runs/yj2gmdi5' target=\"_blank\">vivid-galaxy-119</a></strong> to <a href='https://wandb.ai/marlios/my-awesome-project' target=\"_blank\">Weights & Biases</a> (<a href='https://wandb.me/run' target=\"_blank\">docs</a>)<br/>"
      ],
      "text/plain": [
       "<IPython.core.display.HTML object>"
      ]
     },
     "metadata": {},
     "output_type": "display_data"
    },
    {
     "data": {
      "text/html": [
       " View project at <a href='https://wandb.ai/marlios/my-awesome-project' target=\"_blank\">https://wandb.ai/marlios/my-awesome-project</a>"
      ],
      "text/plain": [
       "<IPython.core.display.HTML object>"
      ]
     },
     "metadata": {},
     "output_type": "display_data"
    },
    {
     "data": {
      "text/html": [
       " View run at <a href='https://wandb.ai/marlios/my-awesome-project/runs/yj2gmdi5' target=\"_blank\">https://wandb.ai/marlios/my-awesome-project/runs/yj2gmdi5</a>"
      ],
      "text/plain": [
       "<IPython.core.display.HTML object>"
      ]
     },
     "metadata": {},
     "output_type": "display_data"
    },
    {
     "name": "stderr",
     "output_type": "stream",
     "text": [
      "  6%|▌         | 582/10000 [4:55:57<131:15:28, 50.17s/it]"
     ]
    }
   ],
   "source": [
    "train(\n",
    "    name=\"3_conv_layer_batch2d_all_sequential_batch1d\",\n",
    "    training_mode=True, \n",
    "    pretrained=False, # use the pretrained model\n",
    "    ep_per_stat=100, \n",
    "    gamma=0.9,\n",
    "    num_episodes=10000,\n",
    "    lr=1e-4, \n",
    "    lr_decay= 0.999,\n",
    "    exploration_min=0.2,\n",
    "    exploration_max = 1.0, # setting this to the min for the rerun model\n",
    "    exploration_decay=0.995, \n",
    "    action_space=TRAIN_SET,\n",
    "    n_actions=26,\n",
    "    debug=True,\n",
    "    device='mps',\n",
    "    max_time_per_ep=200 # limit runs to 200 seconds\n",
    "    )"
   ]
  },
  {
   "cell_type": "code",
   "execution_count": null,
   "metadata": {},
   "outputs": [],
   "source": [
    "# only need to run if you cut the above off early, even then you don't 'have' to but it will do it automatically for you, it's just not as nice to have the output above as well\n",
    "wandb.finish()"
   ]
  },
  {
   "cell_type": "code",
   "execution_count": null,
   "metadata": {},
   "outputs": [],
   "source": [
    "# checking out the run on simple movement\n",
    "run_id='1682477759'\n",
    "visualize(run_id=run_id, action_space=SIMPLE_MOVEMENT, n_actions=len(SIMPLE_MOVEMENT))\n"
   ]
  },
  {
   "cell_type": "code",
   "execution_count": null,
   "metadata": {},
   "outputs": [],
   "source": [
    "# cp ModelCheckpoints/*1682283822* . resetting this run here\n",
    "\n",
    "total_rewards = load_item('total_rewards-{}.pkl'.format(run_id))\n",
    "plot_rewards(ep_per_stat=100, total_rewards=total_rewards)"
   ]
  }
 ],
 "metadata": {
  "kernelspec": {
   "display_name": "marlios",
   "language": "python",
   "name": "marlios"
  },
  "language_info": {
   "codemirror_mode": {
    "name": "ipython",
    "version": 3
   },
   "file_extension": ".py",
   "mimetype": "text/x-python",
   "name": "python",
   "nbconvert_exporter": "python",
   "pygments_lexer": "ipython3",
   "version": "3.10.10"
  },
  "orig_nbformat": 4
 },
 "nbformat": 4,
 "nbformat_minor": 2
}
