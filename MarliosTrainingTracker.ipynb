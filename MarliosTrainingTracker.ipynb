{
 "cells": [
  {
   "cell_type": "code",
   "execution_count": 23,
   "metadata": {},
   "outputs": [
    {
     "name": "stdout",
     "output_type": "stream",
     "text": [
      "The autoreload extension is already loaded. To reload it, use:\n",
      "  %reload_ext autoreload\n"
     ]
    }
   ],
   "source": [
    "import torch\n",
    "import torch.nn as nn\n",
    "import random\n",
    "import gym\n",
    "import gym_super_mario_bros\n",
    "from nes_py.wrappers import JoypadSpace\n",
    "from gym_super_mario_bros import SuperMarioBrosEnv\n",
    "from tqdm import tqdm\n",
    "import pickle \n",
    "import gym\n",
    "import numpy as np\n",
    "import collections \n",
    "import cv2\n",
    "import matplotlib.pyplot as plt\n",
    "import time\n",
    "import datetime\n",
    "import json\n",
    "from toolkit.gym_env import *\n",
    "from toolkit.action_utils import *\n",
    "from toolkit.marlios_lstm import *\n",
    "from toolkit.train_marlios_lstm import *\n",
    "from toolkit.constants import *\n",
    "from toolkit.train_test_samples import *\n",
    "import warnings\n",
    "\n",
    "warnings.filterwarnings('ignore')\n",
    "\n",
    "%load_ext autoreload\n",
    "%autoreload 2"
   ]
  },
  {
   "cell_type": "code",
   "execution_count": 24,
   "metadata": {},
   "outputs": [
    {
     "data": {
      "text/html": [
       "Finishing last run (ID:ea8cjllr) before initializing another..."
      ],
      "text/plain": [
       "<IPython.core.display.HTML object>"
      ]
     },
     "metadata": {},
     "output_type": "display_data"
    },
    {
     "data": {
      "text/html": [
       "Waiting for W&B process to finish... <strong style=\"color:green\">(success).</strong>"
      ],
      "text/plain": [
       "<IPython.core.display.HTML object>"
      ]
     },
     "metadata": {},
     "output_type": "display_data"
    },
    {
     "data": {
      "application/vnd.jupyter.widget-view+json": {
       "model_id": "952d4fc477ad4ce7bb6f845611fed664",
       "version_major": 2,
       "version_minor": 0
      },
      "text/plain": [
       "VBox(children=(Label(value='0.001 MB of 0.001 MB uploaded (0.000 MB deduped)\\r'), FloatProgress(value=1.0, max…"
      ]
     },
     "metadata": {},
     "output_type": "display_data"
    },
    {
     "data": {
      "text/html": [
       " View run <strong style=\"color:#cdcd00\">ruby-planet-129</strong> at: <a href='https://wandb.ai/marlios/my-awesome-project/runs/ea8cjllr' target=\"_blank\">https://wandb.ai/marlios/my-awesome-project/runs/ea8cjllr</a><br/>Synced 6 W&B file(s), 0 media file(s), 0 artifact file(s) and 0 other file(s)"
      ],
      "text/plain": [
       "<IPython.core.display.HTML object>"
      ]
     },
     "metadata": {},
     "output_type": "display_data"
    },
    {
     "data": {
      "text/html": [
       "Find logs at: <code>./wandb/run-20230501_222230-ea8cjllr/logs</code>"
      ],
      "text/plain": [
       "<IPython.core.display.HTML object>"
      ]
     },
     "metadata": {},
     "output_type": "display_data"
    },
    {
     "data": {
      "text/html": [
       "Successfully finished last run (ID:ea8cjllr). Initializing new run:<br/>"
      ],
      "text/plain": [
       "<IPython.core.display.HTML object>"
      ]
     },
     "metadata": {},
     "output_type": "display_data"
    },
    {
     "data": {
      "application/vnd.jupyter.widget-view+json": {
       "model_id": "576d35debb0a439b80c77d7a1a0474ec",
       "version_major": 2,
       "version_minor": 0
      },
      "text/plain": [
       "VBox(children=(Label(value='Waiting for wandb.init()...\\r'), FloatProgress(value=0.01675265416682426, max=1.0)…"
      ]
     },
     "metadata": {},
     "output_type": "display_data"
    },
    {
     "data": {
      "text/html": [
       "Tracking run with wandb version 0.15.0"
      ],
      "text/plain": [
       "<IPython.core.display.HTML object>"
      ]
     },
     "metadata": {},
     "output_type": "display_data"
    },
    {
     "data": {
      "text/html": [
       "Run data is saved locally in <code>/Users/bozhiepokorny/Documents/CSCI566/marlios/maRLios/wandb/run-20230501_222820-jhtauc18</code>"
      ],
      "text/plain": [
       "<IPython.core.display.HTML object>"
      ]
     },
     "metadata": {},
     "output_type": "display_data"
    },
    {
     "data": {
      "text/html": [
       "Syncing run <strong><a href='https://wandb.ai/marlios/my-awesome-project/runs/jhtauc18' target=\"_blank\">ethereal-glitter-130</a></strong> to <a href='https://wandb.ai/marlios/my-awesome-project' target=\"_blank\">Weights & Biases</a> (<a href='https://wandb.me/run' target=\"_blank\">docs</a>)<br/>"
      ],
      "text/plain": [
       "<IPython.core.display.HTML object>"
      ]
     },
     "metadata": {},
     "output_type": "display_data"
    },
    {
     "data": {
      "text/html": [
       " View project at <a href='https://wandb.ai/marlios/my-awesome-project' target=\"_blank\">https://wandb.ai/marlios/my-awesome-project</a>"
      ],
      "text/plain": [
       "<IPython.core.display.HTML object>"
      ]
     },
     "metadata": {},
     "output_type": "display_data"
    },
    {
     "data": {
      "text/html": [
       " View run at <a href='https://wandb.ai/marlios/my-awesome-project/runs/jhtauc18' target=\"_blank\">https://wandb.ai/marlios/my-awesome-project/runs/jhtauc18</a>"
      ],
      "text/plain": [
       "<IPython.core.display.HTML object>"
      ]
     },
     "metadata": {},
     "output_type": "display_data"
    },
    {
     "ename": "TypeError",
     "evalue": "'DQNSolver' object is not iterable",
     "output_type": "error",
     "traceback": [
      "\u001b[0;31m---------------------------------------------------------------------------\u001b[0m",
      "\u001b[0;31mTypeError\u001b[0m                                 Traceback (most recent call last)",
      "Cell \u001b[0;32mIn[24], line 1\u001b[0m\n\u001b[0;32m----> 1\u001b[0m train(\n\u001b[1;32m      2\u001b[0m     name\u001b[39m=\u001b[39;49m\u001b[39m'\u001b[39;49m\u001b[39mRNN bozhie with step LR decay AdamW optim\u001b[39;49m\u001b[39m'\u001b[39;49m,\n\u001b[1;32m      3\u001b[0m     training_mode\u001b[39m=\u001b[39;49m\u001b[39mTrue\u001b[39;49;00m, \n\u001b[1;32m      4\u001b[0m     pretrained\u001b[39m=\u001b[39;49m\u001b[39mFalse\u001b[39;49;00m, \u001b[39m# use the pretrained model\u001b[39;49;00m\n\u001b[1;32m      5\u001b[0m     ep_per_stat\u001b[39m=\u001b[39;49m\u001b[39m100\u001b[39;49m, \n\u001b[1;32m      6\u001b[0m     gamma\u001b[39m=\u001b[39;49m\u001b[39m0.9\u001b[39;49m,\n\u001b[1;32m      7\u001b[0m     num_episodes\u001b[39m=\u001b[39;49m\u001b[39m5000\u001b[39;49m,\n\u001b[1;32m      8\u001b[0m     run_id\u001b[39m=\u001b[39;49m\u001b[39mNone\u001b[39;49;00m,\n\u001b[1;32m      9\u001b[0m     lr\u001b[39m=\u001b[39;49m\u001b[39m1e-5\u001b[39;49m, \n\u001b[1;32m     10\u001b[0m     exploration_min\u001b[39m=\u001b[39;49m\u001b[39m0.2\u001b[39;49m,\n\u001b[1;32m     11\u001b[0m     exploration_max \u001b[39m=\u001b[39;49m \u001b[39m1\u001b[39;49m, \u001b[39m# setting this to the min for the rerun model\u001b[39;49;00m\n\u001b[1;32m     12\u001b[0m     exploration_decay\u001b[39m=\u001b[39;49m\u001b[39m0.99\u001b[39;49m, \n\u001b[1;32m     13\u001b[0m     action_space\u001b[39m=\u001b[39;49mTRAIN_SET,\n\u001b[1;32m     14\u001b[0m     n_actions\u001b[39m=\u001b[39;49m\u001b[39m32\u001b[39;49m,\n\u001b[1;32m     15\u001b[0m     debug\u001b[39m=\u001b[39;49m\u001b[39mTrue\u001b[39;49;00m,\n\u001b[1;32m     16\u001b[0m     device\u001b[39m=\u001b[39;49m\u001b[39m'\u001b[39;49m\u001b[39mmps\u001b[39;49m\u001b[39m'\u001b[39;49m,\n\u001b[1;32m     17\u001b[0m     max_time_per_ep\u001b[39m=\u001b[39;49m\u001b[39m200\u001b[39;49m, \u001b[39m# limit runs to a fewer seconds,\u001b[39;49;00m\n\u001b[1;32m     18\u001b[0m     log \u001b[39m=\u001b[39;49m \u001b[39mTrue\u001b[39;49;00m,\n\u001b[1;32m     19\u001b[0m     hidden_shape\u001b[39m=\u001b[39;49m\u001b[39m32\u001b[39;49m\n\u001b[1;32m     20\u001b[0m     )\n",
      "File \u001b[0;32m~/Documents/CSCI566/marlios/maRLios/toolkit/train_marlios_lstm.py:121\u001b[0m, in \u001b[0;36mtrain\u001b[0;34m(training_mode, pretrained, lr, gamma, exploration_decay, exploration_min, ep_per_stat, exploration_max, lr_decay, mario_env, action_space, num_episodes, run_id, n_actions, debug, name, max_time_per_ep, device, log, hidden_shape)\u001b[0m\n\u001b[1;32m    118\u001b[0m \u001b[39m#todo: add agent params as a setting/create different agents in diff functions to run \u001b[39;00m\n\u001b[1;32m    119\u001b[0m exploration_max \u001b[39m=\u001b[39m \u001b[39mmin\u001b[39m(\u001b[39m1\u001b[39m, \u001b[39mmax\u001b[39m(exploration_max, exploration_min))\n\u001b[0;32m--> 121\u001b[0m agent \u001b[39m=\u001b[39m DQNAgent(\n\u001b[1;32m    122\u001b[0m                  state_space\u001b[39m=\u001b[39;49menv\u001b[39m.\u001b[39;49mobservation_space\u001b[39m.\u001b[39;49mshape,\n\u001b[1;32m    123\u001b[0m                  action_space\u001b[39m=\u001b[39;49maction_space,\n\u001b[1;32m    124\u001b[0m                  max_memory_size\u001b[39m=\u001b[39;49m\u001b[39m20000\u001b[39;49m,\n\u001b[1;32m    125\u001b[0m                  batch_size\u001b[39m=\u001b[39;49mn_actions,\n\u001b[1;32m    126\u001b[0m                  gamma\u001b[39m=\u001b[39;49mgamma,\n\u001b[1;32m    127\u001b[0m                  lr\u001b[39m=\u001b[39;49mlr,\n\u001b[1;32m    128\u001b[0m                  dropout\u001b[39m=\u001b[39;49m\u001b[39mNone\u001b[39;49;00m,\n\u001b[1;32m    129\u001b[0m                  exploration_max\u001b[39m=\u001b[39;49mexploration_max,\n\u001b[1;32m    130\u001b[0m                  exploration_min\u001b[39m=\u001b[39;49mexploration_min,\n\u001b[1;32m    131\u001b[0m                  exploration_decay\u001b[39m=\u001b[39;49mexploration_decay,\n\u001b[1;32m    132\u001b[0m                  double_dq\u001b[39m=\u001b[39;49m\u001b[39mTrue\u001b[39;49;00m,\n\u001b[1;32m    133\u001b[0m                  pretrained\u001b[39m=\u001b[39;49mpretrained,\n\u001b[1;32m    134\u001b[0m                  run_id\u001b[39m=\u001b[39;49mrun_id,\n\u001b[1;32m    135\u001b[0m                  n_actions\u001b[39m=\u001b[39;49mn_actions,\n\u001b[1;32m    136\u001b[0m                  device\u001b[39m=\u001b[39;49mdevice,\n\u001b[1;32m    137\u001b[0m                  init_max_time\u001b[39m=\u001b[39;49mmax_time_per_ep,\n\u001b[1;32m    138\u001b[0m                  hidden_shape\u001b[39m=\u001b[39;49mhidden_shape\n\u001b[1;32m    139\u001b[0m                  )\n\u001b[1;32m    142\u001b[0m \u001b[39m# see if anyone can get this to work, i think it doesn't work on mps\u001b[39;00m\n\u001b[1;32m    143\u001b[0m \u001b[39mif\u001b[39;00m device \u001b[39m!=\u001b[39m \u001b[39m'\u001b[39m\u001b[39mmps\u001b[39m\u001b[39m'\u001b[39m \u001b[39mand\u001b[39;00m log:\n",
      "File \u001b[0;32m~/Documents/CSCI566/marlios/maRLios/toolkit/marlios_lstm.py:149\u001b[0m, in \u001b[0;36mDQNAgent.__init__\u001b[0;34m(self, action_space, max_memory_size, batch_size, gamma, lr, state_space, dropout, exploration_max, exploration_min, exploration_decay, double_dq, pretrained, run_id, n_actions, device, init_max_time, hidden_shape)\u001b[0m\n\u001b[1;32m    147\u001b[0m \u001b[39mself\u001b[39m\u001b[39m.\u001b[39mlr \u001b[39m=\u001b[39m lr\n\u001b[1;32m    148\u001b[0m \u001b[39m#self.optimizer = torch.optim.Adam(self.local_net.parameters(), lr=lr)\u001b[39;00m\n\u001b[0;32m--> 149\u001b[0m \u001b[39mself\u001b[39m\u001b[39m.\u001b[39moptimizer \u001b[39m=\u001b[39m torch\u001b[39m.\u001b[39;49moptim\u001b[39m.\u001b[39;49mAdamW(\u001b[39mself\u001b[39;49m\u001b[39m.\u001b[39;49mlocal_net, lr\u001b[39m=\u001b[39;49m\u001b[39mself\u001b[39;49m\u001b[39m.\u001b[39;49mlr)\n\u001b[1;32m    150\u001b[0m \u001b[39mself\u001b[39m\u001b[39m.\u001b[39mcopy \u001b[39m=\u001b[39m \u001b[39m5000\u001b[39m  \u001b[39m# Copy the local model weights into the target network every 5000 steps\u001b[39;00m\n\u001b[1;32m    151\u001b[0m \u001b[39mself\u001b[39m\u001b[39m.\u001b[39mstep \u001b[39m=\u001b[39m \u001b[39m0\u001b[39m\n",
      "File \u001b[0;32m~/opt/anaconda3/envs/marlios-env/lib/python3.10/site-packages/torch/optim/adamw.py:50\u001b[0m, in \u001b[0;36mAdamW.__init__\u001b[0;34m(self, params, lr, betas, eps, weight_decay, amsgrad, maximize, foreach, capturable, differentiable, fused)\u001b[0m\n\u001b[1;32m     37\u001b[0m     \u001b[39mraise\u001b[39;00m \u001b[39mValueError\u001b[39;00m(\u001b[39m\"\u001b[39m\u001b[39mInvalid weight_decay value: \u001b[39m\u001b[39m{}\u001b[39;00m\u001b[39m\"\u001b[39m\u001b[39m.\u001b[39mformat(weight_decay))\n\u001b[1;32m     38\u001b[0m defaults \u001b[39m=\u001b[39m \u001b[39mdict\u001b[39m(\n\u001b[1;32m     39\u001b[0m     lr\u001b[39m=\u001b[39mlr,\n\u001b[1;32m     40\u001b[0m     betas\u001b[39m=\u001b[39mbetas,\n\u001b[0;32m   (...)\u001b[0m\n\u001b[1;32m     48\u001b[0m     fused\u001b[39m=\u001b[39mfused,\n\u001b[1;32m     49\u001b[0m )\n\u001b[0;32m---> 50\u001b[0m \u001b[39msuper\u001b[39;49m()\u001b[39m.\u001b[39;49m\u001b[39m__init__\u001b[39;49m(params, defaults)\n\u001b[1;32m     52\u001b[0m \u001b[39mif\u001b[39;00m fused:\n\u001b[1;32m     53\u001b[0m     \u001b[39mif\u001b[39;00m differentiable:\n",
      "File \u001b[0;32m~/opt/anaconda3/envs/marlios-env/lib/python3.10/site-packages/torch/optim/optimizer.py:185\u001b[0m, in \u001b[0;36mOptimizer.__init__\u001b[0;34m(self, params, defaults)\u001b[0m\n\u001b[1;32m    182\u001b[0m \u001b[39mself\u001b[39m\u001b[39m.\u001b[39mstate \u001b[39m=\u001b[39m defaultdict(\u001b[39mdict\u001b[39m)\n\u001b[1;32m    183\u001b[0m \u001b[39mself\u001b[39m\u001b[39m.\u001b[39mparam_groups \u001b[39m=\u001b[39m []\n\u001b[0;32m--> 185\u001b[0m param_groups \u001b[39m=\u001b[39m \u001b[39mlist\u001b[39;49m(params)\n\u001b[1;32m    186\u001b[0m \u001b[39mif\u001b[39;00m \u001b[39mlen\u001b[39m(param_groups) \u001b[39m==\u001b[39m \u001b[39m0\u001b[39m:\n\u001b[1;32m    187\u001b[0m     \u001b[39mraise\u001b[39;00m \u001b[39mValueError\u001b[39;00m(\u001b[39m\"\u001b[39m\u001b[39moptimizer got an empty parameter list\u001b[39m\u001b[39m\"\u001b[39m)\n",
      "\u001b[0;31mTypeError\u001b[0m: 'DQNSolver' object is not iterable"
     ]
    }
   ],
   "source": [
    "train(\n",
    "    name='RNN bozhie with step LR decay AdamW optim',\n",
    "    training_mode=True, \n",
    "    pretrained=False, # use the pretrained model\n",
    "    ep_per_stat=100, \n",
    "    gamma=0.9,\n",
    "    num_episodes=5000,\n",
    "    run_id=None,\n",
    "    lr=1e-5, \n",
    "    exploration_min=0.2,\n",
    "    exploration_max = 1, # setting this to the min for the rerun model\n",
    "    exploration_decay=0.99, \n",
    "    action_space=TRAIN_SET,\n",
    "    n_actions=32,\n",
    "    debug=True,\n",
    "    device='mps',\n",
    "    max_time_per_ep=200, # limit runs to a fewer seconds,\n",
    "    log = True,\n",
    "    hidden_shape=32\n",
    "    )"
   ]
  },
  {
   "cell_type": "code",
   "execution_count": null,
   "metadata": {},
   "outputs": [],
   "source": [
    "# only need to run if you cut the above off early, even then you don't 'have' to but it will do it automatically for you, it's just not as nice to have the output above as well\n",
    "wandb.finish()"
   ]
  },
  {
   "cell_type": "code",
   "execution_count": null,
   "metadata": {},
   "outputs": [],
   "source": [
    "# checking out the run on simple movement\n",
    "run_id='1682477759'\n",
    "visualize(run_id=run_id, action_space=SIMPLE_MOVEMENT, n_actions=len(SIMPLE_MOVEMENT))\n"
   ]
  },
  {
   "cell_type": "code",
   "execution_count": null,
   "metadata": {},
   "outputs": [],
   "source": [
    "# cp ModelCheckpoints/*1682283822* . resetting this run here\n",
    "\n",
    "total_rewards = load_item('total_rewards-{}.pkl'.format(run_id))\n",
    "plot_rewards(ep_per_stat=100, total_rewards=total_rewards)"
   ]
  }
 ],
 "metadata": {
  "kernelspec": {
   "display_name": "marlios",
   "language": "python",
   "name": "marlios"
  },
  "language_info": {
   "codemirror_mode": {
    "name": "ipython",
    "version": 3
   },
   "file_extension": ".py",
   "mimetype": "text/x-python",
   "name": "python",
   "nbconvert_exporter": "python",
   "pygments_lexer": "ipython3",
   "version": "3.10.10"
  },
  "orig_nbformat": 4
 },
 "nbformat": 4,
 "nbformat_minor": 2
}
