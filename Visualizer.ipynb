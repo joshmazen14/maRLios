{
 "cells": [
  {
   "cell_type": "code",
   "execution_count": 4,
   "metadata": {},
   "outputs": [
    {
     "name": "stdout",
     "output_type": "stream",
     "text": [
      "The autoreload extension is already loaded. To reload it, use:\n",
      "  %reload_ext autoreload\n"
     ]
    }
   ],
   "source": [
    "import torch\n",
    "import torch.nn as nn\n",
    "import random\n",
    "import gym\n",
    "import gym_super_mario_bros\n",
    "from nes_py.wrappers import JoypadSpace\n",
    "from gym_super_mario_bros import SuperMarioBrosEnv\n",
    "from tqdm import tqdm\n",
    "import pickle \n",
    "import gym\n",
    "import numpy as np\n",
    "import collections \n",
    "import cv2\n",
    "import matplotlib.pyplot as plt\n",
    "import time\n",
    "import datetime\n",
    "import json\n",
    "from toolkit.gym_env import *\n",
    "from toolkit.action_utils import *\n",
    "from toolkit.train_marlios_lstm import *\n",
    "from toolkit.constants import *\n",
    "from toolkit.train_test_samples import *\n",
    "from toolkit.swift_monkey import *\n",
    "import warnings\n",
    "\n",
    "warnings.filterwarnings('ignore')\n",
    "\n",
    "%load_ext autoreload\n",
    "%autoreload 2"
   ]
  },
  {
   "cell_type": "code",
   "execution_count": 11,
   "metadata": {},
   "outputs": [],
   "source": [
    "import os\n",
    "\n",
    "name = \"test\"\n",
    "run_id = str(int(time.time()))\n",
    "\n",
    "outdir = os.path.join(os.getcwd(), \"_\".join([name, run_id]))\n",
    "os.mkdir(outdir)"
   ]
  },
  {
   "cell_type": "code",
   "execution_count": 12,
   "metadata": {},
   "outputs": [],
   "source": [
    "action_file = [1, 2, 3]\n",
    "\n",
    "\n",
    "with open(os.path.join(outdir, f\"ending_action-{run_id}.pkl\"), \"wb\") as f:\n",
    "    pickle.dump(action_file, f)"
   ]
  },
  {
   "cell_type": "code",
   "execution_count": 5,
   "metadata": {},
   "outputs": [
    {
     "ename": "TypeError",
     "evalue": "DQNAgent.__init__() got an unexpected keyword argument 'training_stage'",
     "output_type": "error",
     "traceback": [
      "\u001b[0;31m---------------------------------------------------------------------------\u001b[0m",
      "\u001b[0;31mTypeError\u001b[0m                                 Traceback (most recent call last)",
      "Cell \u001b[0;32mIn[5], line 2\u001b[0m\n\u001b[1;32m      1\u001b[0m \u001b[39m# checking out the run on simple movement\u001b[39;00m\n\u001b[0;32m----> 2\u001b[0m visualize(run_id\u001b[39m=\u001b[39;49m\u001b[39m'\u001b[39;49m\u001b[39m1683003374\u001b[39;49m\u001b[39m'\u001b[39;49m, action_space\u001b[39m=\u001b[39;49mTRAIN_SET, n_actions\u001b[39m=\u001b[39;49m\u001b[39m32\u001b[39;49m, randomness\u001b[39m=\u001b[39;49m\u001b[39mFalse\u001b[39;49;00m)\n",
      "File \u001b[0;32m~/Documents/CSCI566/marlios/maRLios/toolkit/train_marlios_lstm.py:395\u001b[0m, in \u001b[0;36mvisualize\u001b[0;34m(run_id, action_space, n_actions, lr, exploration_min, ep_per_stat, exploration_max, mario_env, num_episodes, log_stats, randomness)\u001b[0m\n\u001b[1;32m    392\u001b[0m     exploration_max \u001b[39m=\u001b[39m \u001b[39m0\u001b[39m\n\u001b[1;32m    393\u001b[0m     exploration_min \u001b[39m=\u001b[39m \u001b[39m0\u001b[39m\n\u001b[0;32m--> 395\u001b[0m agent \u001b[39m=\u001b[39m DQNAgent(\n\u001b[1;32m    396\u001b[0m                  state_space\u001b[39m=\u001b[39;49menv\u001b[39m.\u001b[39;49mobservation_space\u001b[39m.\u001b[39;49mshape,\n\u001b[1;32m    397\u001b[0m                  action_space\u001b[39m=\u001b[39;49maction_space,\n\u001b[1;32m    398\u001b[0m                  max_memory_size\u001b[39m=\u001b[39;49m\u001b[39m30000\u001b[39;49m,\n\u001b[1;32m    399\u001b[0m                  batch_size\u001b[39m=\u001b[39;49mn_actions,\n\u001b[1;32m    400\u001b[0m                  gamma\u001b[39m=\u001b[39;49m\u001b[39m0.9\u001b[39;49m,\n\u001b[1;32m    401\u001b[0m                  lr\u001b[39m=\u001b[39;49mlr,\n\u001b[1;32m    402\u001b[0m                  dropout\u001b[39m=\u001b[39;49m\u001b[39mNone\u001b[39;49;00m,\n\u001b[1;32m    403\u001b[0m                  exploration_max\u001b[39m=\u001b[39;49mexploration_max,\n\u001b[1;32m    404\u001b[0m                  exploration_min\u001b[39m=\u001b[39;49mexploration_min,\n\u001b[1;32m    405\u001b[0m                  exploration_decay\u001b[39m=\u001b[39;49m\u001b[39m0.9995\u001b[39;49m,\n\u001b[1;32m    406\u001b[0m                  double_dq\u001b[39m=\u001b[39;49m\u001b[39mTrue\u001b[39;49;00m,\n\u001b[1;32m    407\u001b[0m                  pretrained\u001b[39m=\u001b[39;49m\u001b[39mTrue\u001b[39;49;00m,\n\u001b[1;32m    408\u001b[0m                  run_id\u001b[39m=\u001b[39;49mrun_id,\n\u001b[1;32m    409\u001b[0m                  n_actions\u001b[39m=\u001b[39;49mn_actions,\n\u001b[1;32m    410\u001b[0m                  sample_actions\u001b[39m=\u001b[39;49msample_actions,\n\u001b[1;32m    411\u001b[0m                  training_stage\u001b[39m=\u001b[39;49m\u001b[39m\"\u001b[39;49m\u001b[39mtest\u001b[39;49m\u001b[39m\"\u001b[39;49m)\n\u001b[1;32m    414\u001b[0m \u001b[39m# num_episodes = 10\u001b[39;00m\n\u001b[1;32m    415\u001b[0m env\u001b[39m.\u001b[39mreset()\n",
      "\u001b[0;31mTypeError\u001b[0m: DQNAgent.__init__() got an unexpected keyword argument 'training_stage'"
     ]
    }
   ],
   "source": [
    "# checking out the run on simple movement\n",
    "visualize(run_id='1683003374', action_space=TRAIN_SET, n_actions=32, randomness=False)"
   ]
  },
  {
   "cell_type": "code",
   "execution_count": null,
   "metadata": {},
   "outputs": [],
   "source": [
    "total_rewards = load_item('total_rewards-{}.pkl'.format(run_id))\n",
    "plot_rewards(ep_per_stat=100, total_rewards=total_rewards)"
   ]
  }
 ],
 "metadata": {
  "kernelspec": {
   "display_name": "marlios",
   "language": "python",
   "name": "marlios"
  },
  "language_info": {
   "codemirror_mode": {
    "name": "ipython",
    "version": 3
   },
   "file_extension": ".py",
   "mimetype": "text/x-python",
   "name": "python",
   "nbconvert_exporter": "python",
   "pygments_lexer": "ipython3",
   "version": "3.10.10"
  },
  "orig_nbformat": 4
 },
 "nbformat": 4,
 "nbformat_minor": 2
}
