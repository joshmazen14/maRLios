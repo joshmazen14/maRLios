{
 "cells": [
  {
   "cell_type": "code",
   "execution_count": null,
   "metadata": {},
   "outputs": [],
   "source": [
    "# #only run once\n",
    "# #!pip install nes-py==0.2.6\n",
    "# !brew update\n",
    "# !brew install ffmpeg\n",
    "# !brew install libsm\n",
    "# !brew install libxext\n",
    "# !brew install mesa\n",
    "# !pip install opencv-python\n",
    "# !pip install gym-super-mario-bros\n",
    "# !pip install gym"
   ]
  },
  {
   "cell_type": "code",
<<<<<<< HEAD
   "execution_count": null,
=======
   "execution_count": 3,
>>>>>>> remotes/origin/cameron_staging_fixed
   "metadata": {},
   "outputs": [
    {
     "name": "stdout",
     "output_type": "stream",
     "text": [
      "The autoreload extension is already loaded. To reload it, use:\n",
      "  %reload_ext autoreload\n"
     ]
    }
   ],
   "source": [
    "import torch\n",
    "if torch.backends.mps.is_available():\n",
    "    mps_device = torch.device(\"mps\")\n",
    "    x = torch.ones(1, device=mps_device)\n",
    "    print (x)\n",
    "else:\n",
    "    print (\"MPS device not found.\")"
   ]
  },
  {
   "cell_type": "code",
   "execution_count": 14,
   "metadata": {},
   "outputs": [],
   "source": [
    "import torch\n",
    "import torchvision\n",
    "import torch.nn as nn\n",
    "import random\n",
    "import gym\n",
    "import gym_super_mario_bros\n",
    "from nes_py.wrappers import JoypadSpace\n",
    "from gym_super_mario_bros import SuperMarioBrosEnv\n",
    "from tqdm import tqdm\n",
    "import pickle \n",
    "import gym\n",
    "import numpy as np\n",
    "import collections \n",
    "import cv2\n",
    "import matplotlib.pyplot as plt\n",
    "import time\n",
    "import datetime\n",
<<<<<<< HEAD
    "import json"
   ]
  },
  {
   "cell_type": "code",
   "execution_count": 3,
   "metadata": {},
   "outputs": [],
   "source": [
=======
    "import json\n",
>>>>>>> remotes/origin/cameron_staging_fixed
    "from toolkit.gym_env import *\n",
    "from toolkit.action_utils import *\n",
    "from toolkit.marlios_model import *\n",
    "from toolkit.constants import *\n",
    "import warnings\n",
    "\n",
    "warnings.filterwarnings('ignore')\n",
    "%load_ext autoreload\n",
    "%autoreload 2"
   ]
  },
  {
   "cell_type": "code",
<<<<<<< HEAD
   "execution_count": 10,
   "metadata": {},
   "outputs": [],
   "source": [
    "import warnings\n",
    "warnings.filterwarnings('ignore')"
   ]
  },
  {
   "cell_type": "code",
   "execution_count": 11,
=======
   "execution_count": 4,
>>>>>>> remotes/origin/cameron_staging_fixed
   "metadata": {},
   "outputs": [],
   "source": [
    "def show_state(env, ep=0, info=\"\"):\n",
    "    plt.figure(3)\n",
    "    plt.clf()\n",
    "    plt.imshow(env.render(mode='rgb_array'))\n",
    "    plt.title(\"Episode: %d %s\" % (ep, info))\n",
    "    plt.axis('off')\n",
    "\n",
    "    # display.clear_output(wait=True)\n",
    "    # display.display(plt.gcf())\n",
    "    display(plt.gcf(), clear=True)\n",
    "\n",
    "def make_env(env, actions=ACTION_SPACE):\n",
    "    env = MaxAndSkipEnv(env, skip=4) # I am testing out fewer fram repetitions for our two actions modelling\n",
    "    env = ProcessFrame84(env)\n",
    "    env = ImageToPyTorch(env)\n",
    "    env = BufferWrapper(env, 4)\n",
    "    env = ScaledFloatFrame(env)\n",
    "    return JoypadSpace(env, actions)\n",
    "\n",
    "def generate_epoch_time_id():\n",
    "    epoch_time = int(time.time())\n",
    "    return str(epoch_time)\n",
    "\n",
    "def save_checkpoint(agent, total_rewards, terminal_info, run_id):\n",
    "    with open(f\"ending_position-{run_id}.pkl\", \"wb\") as f:\n",
    "        pickle.dump(agent.ending_position, f)\n",
    "    with open(f\"num_in_queue-{run_id}.pkl\", \"wb\") as f:\n",
    "        pickle.dump(agent.num_in_queue, f)\n",
    "    with open(f\"total_rewards-{run_id}.pkl\", \"wb\") as f:\n",
    "        pickle.dump(total_rewards, f)\n",
    "    with open(f\"terminal_info-{run_id}.pkl\", \"wb\") as f:\n",
    "        pickle.dump(terminal_info, f)\n",
    "    if agent.double_dq:\n",
    "        torch.save(agent.local_net.state_dict(), f\"dq1-{run_id}.pt\")\n",
    "        torch.save(agent.target_net.state_dict(), f\"dq2-{run_id}.pt\")\n",
    "    else:\n",
    "        torch.save(agent.dqn.state_dict(), f\"dq-{run_id}.pt\")  \n",
    "\n",
    "def load_rewards(from_file):\n",
    "     with open(from_file, 'rb') as f:\n",
    "        total_rewards = pickle.load(f)\n",
    "        return total_rewards\n",
    "\n",
    "def plot_rewards(ep_per_stat = 100, total_rewards = [], from_file = None):\n",
    "    if from_file != None:\n",
    "        total_rewards = load_rewards(total_rewards)\n",
    "       \n",
    "    avg_rewards = [np.mean(total_rewards[i:i+ep_per_stat]) for i in range(0, len(total_rewards), ep_per_stat)]\n",
    "    std_rewards = [np.std(total_rewards[i:i+ep_per_stat]) for i in range(0, len(total_rewards), ep_per_stat)]\n",
    "\n",
    "    fig, ax = plt.subplots()\n",
    "    ax.plot(avg_rewards, label='Average Rewards')\n",
    "    ax.fill_between(range(len(avg_rewards)), np.subtract(avg_rewards, std_rewards), np.add(avg_rewards, std_rewards), alpha=0.2, label='Reward StdDev')\n",
    "\n",
    "    ax.set_xlabel('Episode')\n",
    "    ax.set_ylabel('Reward')\n",
    "    xtick_labels = [str(i*ep_per_stat) for i in range(len(avg_rewards))]\n",
    "    plt.xticks(range(len(avg_rewards)), xtick_labels)\n",
    "    plt.xticks(rotation=45)\n",
    "    ax.legend(loc='lower right')\n",
    "    plt.show()\n",
    "\n",
    "# define the run function with some helpful debugging stats\n",
    "\n",
    "def run(training_mode=True, pretrained=False, lr=0.0001, gamma=0.90, exploration_decay=0.995, exploration_min=0.02, \n",
    "        ep_per_stat = 100, exploration_max = 1,\n",
    "        mario_env='SuperMarioBros-1-1-v0', action_space=TWO_ACTIONS_SET, num_episodes=1000, run_id=None, n_actions=5):\n",
    "   \n",
    "    run_id = run_id or generate_epoch_time_id()\n",
    "    fh = open(f'progress-{run_id}.txt', 'a')\n",
    "    env = gym.make(mario_env)\n",
    "    env = make_env(env, ACTION_SPACE)\n",
    "\n",
    "\n",
    "    # observation_space = env.observation_space.shape # not using this anymore\n",
    "\n",
    "    #todo: add agent params as a setting/create different agents in diff functions to run \n",
    "    exploration_max = min(1, max(exploration_max, exploration_min))\n",
    "\n",
    "    agent = DQNAgent(\n",
    "                     state_space=env.observation_space.shape,\n",
    "                     action_space=action_space,\n",
    "                     max_memory_size=30000,\n",
    "                     batch_size=64,\n",
    "                     gamma=gamma,\n",
    "                     lr=lr,\n",
    "                     dropout=None,\n",
    "                     exploration_max=exploration_max,\n",
    "                     exploration_min=exploration_min,\n",
    "                     exploration_decay=exploration_decay,\n",
    "                     double_dq=True,\n",
    "                     pretrained=pretrained,\n",
    "                     run_id=run_id,\n",
    "                     n_actions=n_actions)\n",
    "    \n",
    "    \n",
    "    # num_episodes = 10\n",
    "    env.reset()\n",
    "    total_rewards = []\n",
    "    total_info = []\n",
    "\n",
    "    if pretrained:\n",
    "        total_rewards = load_rewards(from_file='total_rewards-{}.pkl'.format(run_id))\n",
    "    \n",
    "    offset = len(total_rewards)   \n",
    "    for iteration in tqdm(range(num_episodes)):\n",
    "        ep_num = offset + iteration\n",
    "\n",
    "        state = env.reset() # take the final dimension of shape \n",
    "        state = torch.Tensor([state])# converts (1, 84, 84) to (1, 1, 84, 84)\n",
    "        total_reward = 0\n",
    "        steps = 0\n",
    "\n",
    "        action_freq = {}\n",
    "        while True:\n",
    "            if not training_mode:\n",
    "                show_state(env, ep_num)\n",
    "\n",
    "\n",
    "            two_actions_index = agent.act(state)\n",
    "            two_actions_vector = agent.cur_action_space[0, two_actions_index[0]]\n",
    "            two_actions = vec_to_action(two_actions_vector.cpu()) # tuple of actions\n",
    "\n",
    "            # debugging info\n",
    "            key = \" | \".join([\",\".join(i) for i in two_actions])\n",
    "            if key in action_freq:\n",
    "                action_freq[key] += 1\n",
    "            else:\n",
    "                action_freq[key] = 1\n",
    "            \n",
    "            steps += 1\n",
    "            reward = 0\n",
    "            info = None\n",
    "            terminal = False\n",
    "            for action in two_actions: \n",
    "                if not terminal:\n",
    "                    # compute index into ACTION_SPACE of our action\n",
    "                    step_action = ACTION_TO_INDEX[action]\n",
    "\n",
    "                    state_next, cur_reward, terminal, info = env.step(step_action)\n",
    "                    total_reward += cur_reward\n",
    "                    reward += cur_reward\n",
    "                    \n",
    "            state_next = torch.Tensor([state_next])\n",
    "            reward = torch.tensor([reward]).unsqueeze(0)        \n",
    "            terminal = torch.tensor([int(terminal)]).unsqueeze(0)\n",
    "            \n",
    "            if training_mode:\n",
    "                agent.remember(state, two_actions_index, reward, state_next, terminal)\n",
    "                agent.experience_replay()\n",
    "            \n",
    "            state = state_next\n",
    "            if terminal:\n",
    "                break\n",
    "\n",
    "        total_info.append(info)\n",
    "        total_rewards.append(total_reward)\n",
    "\n",
    "        if training_mode and (ep_num % ep_per_stat) == 0 and ep_num != 0:\n",
    "            save_checkpoint(agent, total_rewards, total_info, run_id)\n",
    "\n",
    "        with open(f'total_reward-{run_id}.txt', 'a') as f:\n",
    "            f.write(\"Total reward after episode {} is {}\\n\".format(ep_num + 1, total_rewards[-1]))\n",
    "            if (ep_num%100 == 0):\n",
    "                f.write(\"==================\\n\")\n",
    "                f.write(\"{} current time at episode {}\\n\".format(datetime.datetime.now(), ep_num+1))\n",
    "                f.write(\"==================\\n\")\n",
    "            #print(\"Total reward after episode {} is {}\".format(ep_num + 1, total_rewards[-1]))\n",
    "            num_episodes += 1\n",
    "        \n",
    "        with open(f'actions_chosen-{run_id}.txt', 'a') as f:\n",
    "            f.write(\"Action Frequencies for Episode {}, Exploration = {:4f}\\n\".format(ep_num + 1, agent.exploration_rate))\n",
    "            f.write(json.dumps(action_freq) + \"\\n\\n\")\n",
    "    \n",
    "    if training_mode:\n",
    "        save_checkpoint(agent, total_rewards, total_info, run_id)\n",
    "    \n",
    "    env.close()\n",
    "    fh.close()\n",
    "    \n",
    "    if num_episodes > ep_per_stat:\n",
    "        plot_rewards(ep_per_stat=ep_per_stat, total_rewards=total_rewards)\n"
   ]
  },
  {
   "cell_type": "code",
<<<<<<< HEAD
   "execution_count": 15,
=======
   "execution_count": 6,
>>>>>>> remotes/origin/cameron_staging_fixed
   "metadata": {},
   "outputs": [
    {
     "name": "stderr",
     "output_type": "stream",
     "text": [
<<<<<<< HEAD
      "100%|██████████| 1000/1000 [32:38<00:00,  1.96s/it] \n"
=======
      "  2%|▏         | 21/1000 [01:41<1:12:25,  4.44s/it]"
>>>>>>> remotes/origin/cameron_staging_fixed
     ]
    },
    {
     "data": {
      "image/png": "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",
      "text/plain": [
       "<Figure size 640x480 with 1 Axes>"
      ]
     },
     "metadata": {},
     "output_type": "display_data"
    }
   ],
   "source": [
<<<<<<< HEAD
    "#run experiments:\n",
    "run(training_mode=True, \n",
    "    pretrained=False, # use the pretrained model\n",
    "    ep_per_stat=100, \n",
    "    num_episodes=1000,\n",
    "    lr=0.00001, #1e-4\n",
    "    exploration_min=0.02,\n",
    "    exploration_max =100, # setting this to the min for the rerun model\n",
    "    exploration_decay=0.9999, \n",
    "    action_space=SIMPLE_MOVEMENT,\n",
    "    n_actions=len(SIMPLE_MOVEMENT)+2)"
   ]
  },
  {
   "cell_type": "code",
   "execution_count": null,
   "metadata": {},
   "outputs": [],
   "source": [
    "run_id = 1681856162\n",
=======
    "# rerunning fresh\n",
    "\n",
>>>>>>> remotes/origin/cameron_staging_fixed
    "run(training_mode=True, \n",
    "    pretrained=False, # use the pretrained model\n",
    "    ep_per_stat=100, \n",
    "    num_episodes=1000,\n",
    "    run_id=None,\n",
    "    lr=0.00001,\n",
    "    exploration_min=0.02,\n",
    "    exploration_max = 1, # setting this to the min for the rerun model\n",
    "    exploration_decay=0.9995, \n",
    "    action_space=SIMPLE_MOVEMENT,\n",
    "    n_actions=len(SIMPLE_MOVEMENT)+2)"
   ]
  },
  {
   "attachments": {},
   "cell_type": "markdown",
   "metadata": {},
   "source": [
    "# Debugging"
   ]
  }
 ],
 "metadata": {
  "kernelspec": {
   "display_name": "marlios-env",
   "language": "python",
   "name": "python3"
  },
  "language_info": {
   "codemirror_mode": {
    "name": "ipython",
    "version": 3
   },
   "file_extension": ".py",
   "mimetype": "text/x-python",
   "name": "python",
   "nbconvert_exporter": "python",
   "pygments_lexer": "ipython3",
   "version": "3.10.10"
  },
  "orig_nbformat": 4,
  "vscode": {
   "interpreter": {
    "hash": "87420a1976992e50f6720c89e3dac51353c560a9cf4bd2e4746d638057c25d60"
   }
  }
 },
 "nbformat": 4,
 "nbformat_minor": 2
}
